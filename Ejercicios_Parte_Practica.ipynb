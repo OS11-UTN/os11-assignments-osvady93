{
 "cells": [
  {
   "cell_type": "markdown",
   "metadata": {},
   "source": [
    "# OS11: Models and Algorithms for Logistic and Transport \n",
    "\n",
    "\n",
    "# Osvady Avalos Abreu\n",
    "\n",
    "\n",
    "## Doctorando en Ingeniería -Mención Procesamiento de Señales e Imágenes "
   ]
  },
  {
   "cell_type": "code",
   "execution_count": 43,
   "metadata": {},
   "outputs": [],
   "source": [
    "import pandas as pd\n",
    "import os\n",
    "import numpy as np\n",
    "import scipy.io as sio\n",
    "from scipy import stats\n",
    "from math import factorial\n",
    "import seaborn as sns\n",
    "from scipy.linalg import eigh,eig,eigvals\n",
    "from scipy.optimize import linprog\n",
    "import matplotlib.pyplot as plt\n",
    "from copy import deepcopy\n",
    "from itertools import permutations\n",
    "import random\n",
    "from scipy.spatial import distance\n",
    "\n",
    "import copy"
   ]
  },
  {
   "cell_type": "code",
   "execution_count": 2,
   "metadata": {},
   "outputs": [],
   "source": [
    "import sys\n",
    "import warnings\n",
    "\n",
    "if not sys.warnoptions:\n",
    "    warnings.simplefilter(\"ignore\")"
   ]
  },
  {
   "cell_type": "code",
   "execution_count": 3,
   "metadata": {},
   "outputs": [
    {
     "data": {
      "text/plain": [
       "matrix([[0, 1, 1],\n",
       "        [0, 0, 0],\n",
       "        [0, 1, 0]])"
      ]
     },
     "execution_count": 3,
     "metadata": {},
     "output_type": "execute_result"
    }
   ],
   "source": [
    "NN=np.matrix([[0,1,1],[0,0,0],[0,1,0]])\n",
    "NN"
   ]
  },
  {
   "cell_type": "code",
   "execution_count": 4,
   "metadata": {},
   "outputs": [
    {
     "data": {
      "text/plain": [
       "array([[ 1.,  1.,  0.],\n",
       "       [-1.,  0., -1.],\n",
       "       [ 0., -1.,  1.]])"
      ]
     },
     "execution_count": 4,
     "metadata": {},
     "output_type": "execute_result"
    }
   ],
   "source": [
    "def matrix_nodo_arco(matrix_nodo_nodo):\n",
    "    \n",
    "    n,n=matrix_nodo_nodo.shape\n",
    "    \n",
    "    NA=np.zeros([n,np.count_nonzero(matrix_nodo_nodo)])\n",
    "    nodo,arco=NA.shape\n",
    "    k=0\n",
    "    for i in range(n):\n",
    "        for j in range (n):\n",
    "            if matrix_nodo_nodo[i,j]==1:\n",
    "                NA[i,k]=1\n",
    "                NA[j,k]=-1\n",
    "                k+=1\n",
    "    return NA       \n",
    "matrix_nodo_arco(NN)            "
   ]
  },
  {
   "cell_type": "code",
   "execution_count": 5,
   "metadata": {},
   "outputs": [
    {
     "data": {
      "text/plain": [
       "' Esta es otra solucion \\n Para probarla hay que dscomentarla \\n'"
      ]
     },
     "execution_count": 5,
     "metadata": {},
     "output_type": "execute_result"
    }
   ],
   "source": [
    "\"\"\" Esta es otra solucion \n",
    " Para probarla hay que dscomentarla \n",
    "\"\"\"\n",
    "\n",
    "# def nn2na(NN):\n",
    "#     idxs = np.argwhere(NN)\n",
    "#     NA = np.zeros([NN.shape[0],idxs.shape[0]]).astype(int)\n",
    "    \n",
    "#     for i, arc in enumerate(idxs):\n",
    "#         NA[arc[0],i] = 1\n",
    "#         NA[arc[1],i] = -1\n",
    "\n",
    "#     return NA"
   ]
  },
  {
   "cell_type": "markdown",
   "metadata": {},
   "source": [
    "## Resolucion de Rodrigo "
   ]
  },
  {
   "cell_type": "code",
   "execution_count": 6,
   "metadata": {},
   "outputs": [],
   "source": [
    "# Matrix treatment:\n",
    "def nn2na(NN):\n",
    "    # Get every location where exist an arc:\n",
    "    idxs = np.argwhere(NN)\n",
    "    # Preallocate NA matrix, dimension is (nodes, arcs)\n",
    "    NA = np.zeros([NN.shape[0], idxs.shape[0]]).astype(int)\n",
    "    C = np.zeros(NA.shape[1])\n",
    "    # Loop in every arc, complete from (1) to (-1)\n",
    "    for i, arc in enumerate(idxs):\n",
    "        # Node arc:\n",
    "        NA[arc[0], i] = 1 # From\n",
    "        NA[arc[1], i] = -1 # To\n",
    "\n",
    "    arc_idxs = [(arc[0], arc[1]) for arc in idxs]\n",
    "\n",
    "    return NA, arc_idxs\n",
    "\n",
    "\n",
    "\n",
    "# Shortest path Utils\n",
    "def get_selected_arcs(arc_idxs, selected_arcs):\n",
    "    arc = []\n",
    "    for idx, i in enumerate(selected_arcs):\n",
    "        if np.isclose(i, 1, rtol=1e-05, atol=1e-08, equal_nan=False): # Vecinity\n",
    "            arc.append(arc_idxs[idx])\n",
    "    return arc\n",
    "\n"
   ]
  },
  {
   "cell_type": "markdown",
   "metadata": {},
   "source": [
    "# EX1: Basic example SP\n",
    "## Shortest Path"
   ]
  },
  {
   "cell_type": "code",
   "execution_count": 7,
   "metadata": {},
   "outputs": [
    {
     "name": "stdout",
     "output_type": "stream",
     "text": [
      "## Optimizer inputs ## \n",
      "Cost vector: [2 2 2 5 2 1 2] \n",
      " A_eq Node-Arc matrix:\n",
      "[[ 1  1  0  0  0  0  0]\n",
      " [-1  0  1  1  0  0  0]\n",
      " [ 0 -1  0  0  1  0  0]\n",
      " [ 0  0 -1  0  0  1  0]\n",
      " [ 0  0  0  0 -1  0  1]\n",
      " [ 0  0  0 -1  0 -1 -1]] \n",
      "b_eq demand-supply vector: [ 1  0  0  0  0 -1] \n",
      "Bounds of each X arc variable: ((0, None), (0, None), (0, None), (0, None), (0, None), (0, None), (0, None)) \n",
      "\n",
      "## Results ##\n",
      "The raw solution will be: [1.00000000e+00 1.07463814e-10 1.00000000e+00 4.87243456e-11\n",
      " 1.07463814e-10 1.00000000e+00 1.07463814e-10]\n",
      "The arcs that make the shortest path will be (from, to): [(0, 1), (1, 3), (3, 5)]\n",
      "The minimum cost will be: 5.00 \n"
     ]
    }
   ],
   "source": [
    "# IMPORT THE DATA:\n",
    "NN = np.array([[0, 1, 1, 0, 0, 0],\n",
    "               [0, 0, 0, 1, 0, 1],\n",
    "               [0, 0, 0, 0, 1, 0],\n",
    "               [0, 0, 0, 0, 0, 1],\n",
    "               [0, 0, 0, 0, 0, 1],\n",
    "               [0, 0, 0, 0, 0, 0]])\n",
    "\n",
    "# DATA MANIPULATION:\n",
    "C = np.array([2, 2, 2, 5, 2, 1, 2])\n",
    "Aeq, arc_idxs = nn2na(NN)\n",
    "beq = np.array([1, 0, 0, 0, 0, -1])\n",
    "bounds = tuple([(0, None) for arcs in range(0, Aeq.shape[1])])\n",
    "\n",
    "print('## Optimizer inputs ## \\n'\n",
    "      'Cost vector: %s \\n '\n",
    "      'A_eq Node-Arc matrix:\\n%s \\n'\n",
    "      'b_eq demand-supply vector: %s \\n'\n",
    "      'Bounds of each X arc variable: %s \\n' % (C, Aeq, beq, bounds))\n",
    "\n",
    "# OPTIMIZE:\n",
    "res = linprog(C, A_eq=Aeq, b_eq=beq, bounds=bounds)\n",
    "\n",
    "# GET THE SOLUTION:\n",
    "selarcs = get_selected_arcs(arc_idxs, res.x)\n",
    "print('## Results ##')\n",
    "print('The raw solution will be: %s' % res.x)\n",
    "print('The arcs that make the shortest path will be (from, to): %s' % selarcs)\n",
    "print('The minimum cost will be: %0.2f ' % res.fun)"
   ]
  },
  {
   "cell_type": "code",
   "execution_count": 8,
   "metadata": {},
   "outputs": [
    {
     "data": {
      "text/plain": [
       "     con: array([-1.10423448e-10, -1.10419895e-10, -3.70576914e-22, -5.77315973e-15,\n",
       "        0.00000000e+00,  2.20849117e-10])\n",
       "     fun: 5.000000001088295\n",
       " message: 'Optimization terminated successfully.'\n",
       "     nit: 4\n",
       "   slack: array([], dtype=float64)\n",
       "  status: 0\n",
       " success: True\n",
       "       x: array([1.00000000e+00, 1.07463814e-10, 1.00000000e+00, 4.87243456e-11,\n",
       "       1.07463814e-10, 1.00000000e+00, 1.07463814e-10])"
      ]
     },
     "execution_count": 8,
     "metadata": {},
     "output_type": "execute_result"
    }
   ],
   "source": [
    "res\n"
   ]
  },
  {
   "cell_type": "markdown",
   "metadata": {},
   "source": [
    "# Shortest Path\n",
    "# EX2: Basic example SP"
   ]
  },
  {
   "cell_type": "code",
   "execution_count": 9,
   "metadata": {},
   "outputs": [
    {
     "name": "stdout",
     "output_type": "stream",
     "text": [
      "## Optimizer inputs ## \n",
      "Cost vector: [2 1 2 5 2 1 2] \n",
      " A_eq Node-Arc matrix:\n",
      "[[ 1  1  0  0  0  0  0]\n",
      " [-1  0  1  1  0  0  0]\n",
      " [ 0 -1  0  0  1  0  0]\n",
      " [ 0  0 -1  0  0  1  0]\n",
      " [ 0  0  0  0 -1  0  1]\n",
      " [ 0  0  0 -1  0 -1 -1]] \n",
      "b_eq demand-supply vector: [ 1  0  0  0  0 -1] \n",
      "Bounds of each X arc variable: ((0, None), (0, None), (0, None), (0, None), (0, None), (0, None), (0, None)) \n",
      "\n",
      "\n",
      " ## Results for interior-point ## \n",
      "The raw solution will be: [5.29117485e-01 4.70882515e-01 5.29117485e-01 1.92890873e-11\n",
      " 4.70882515e-01 5.29117485e-01 4.70882515e-01]\n",
      "The arcs that make the shortest path will be (from, to): []\n",
      "The minimum cost will be: 5.00 \n",
      "\n",
      " ## Results for revised simplex ## \n",
      "The raw solution will be: [0. 1. 0. 0. 1. 0. 1.]\n",
      "The arcs that make the shortest path will be (from, to): [(0, 2), (2, 4), (4, 5)]\n",
      "The minimum cost will be: 5.00 \n"
     ]
    }
   ],
   "source": [
    "\n",
    "# IMPORT THE DATA:\n",
    "NN = np.array([[0, 1, 1, 0, 0, 0],\n",
    "               [0, 0, 0, 1, 0, 1],\n",
    "               [0, 0, 0, 0, 1, 0],\n",
    "               [0, 0, 0, 0, 0, 1],\n",
    "               [0, 0, 0, 0, 0, 1],\n",
    "               [0, 0, 0, 0, 0, 0]])\n",
    "\n",
    "# DATA MANIPULATION:\n",
    "C = np.array([2, 1, 2, 5, 2, 1, 2])\n",
    "Aeq, arc_idxs = nn2na(NN)\n",
    "beq = np.array([1, 0, 0, 0, 0, -1])\n",
    "bounds = tuple([(0, None) for arcs in range(0, Aeq.shape[1])])\n",
    "\n",
    "print('## Optimizer inputs ## \\n'\n",
    "      'Cost vector: %s \\n '\n",
    "      'A_eq Node-Arc matrix:\\n%s \\n'\n",
    "      'b_eq demand-supply vector: %s \\n'\n",
    "      'Bounds of each X arc variable: %s \\n' % (C, Aeq, beq, bounds))\n",
    "\n",
    "for name_method in 'interior-point', 'revised simplex':\n",
    "    # OPTIMIZE:\n",
    "    res = linprog(C, A_eq=Aeq, b_eq=beq, bounds=bounds, method=name_method)\n",
    "\n",
    "    # GET THE SOLUTION:\n",
    "    selarcs = get_selected_arcs(arc_idxs, res.x)\n",
    "    print('\\n ## Results for %s ## ' % name_method)\n",
    "    print('The raw solution will be: %s' % res.x)\n",
    "    print('The arcs that make the shortest path will be (from, to): %s' % selarcs)\n",
    "    print('The minimum cost will be: %0.2f ' % res.fun)"
   ]
  },
  {
   "cell_type": "markdown",
   "metadata": {},
   "source": [
    "# Shortest Path\n",
    "# EX3 Basic example SP with Dijkstra algorithm"
   ]
  },
  {
   "cell_type": "code",
   "execution_count": 10,
   "metadata": {},
   "outputs": [],
   "source": [
    "\n",
    "# graph = {'s': {'1': 2, '2': 2},\n",
    "#          '1': {'3': 2, 't': 5,'s':2}, '2': {'4': 2,'s':2},\n",
    "#          '3': {'t': 1,'1':2}, '4': {'t': 2,'2':2},'t':{'3':1,'4':2,'1':5} }"
   ]
  },
  {
   "cell_type": "code",
   "execution_count": 11,
   "metadata": {},
   "outputs": [],
   "source": [
    "\n",
    "def search(source, target, graph, costs, parents):\n",
    "    \n",
    "    new_graph=deepcopy(graph)\n",
    "    new_cost=deepcopy(costs)\n",
    "    \n",
    "    nextNode = source\n",
    "    \n",
    "    while nextNode != target:\n",
    "        \n",
    "        for neighbor in new_graph[nextNode]:\n",
    "            \n",
    "            if new_graph[nextNode][neighbor] + new_cost[nextNode] < new_cost[neighbor]:\n",
    "                \n",
    "                new_cost[neighbor] = new_graph[nextNode][neighbor] + new_cost[nextNode]\n",
    "                \n",
    "                parents[neighbor] = nextNode\n",
    "   \n",
    "            del new_graph[neighbor][nextNode]\n",
    "        del new_cost[nextNode]\n",
    "        \n",
    "        res =  [key for key in new_cost if \n",
    "        all(new_cost[temp] >= new_cost[key] \n",
    "        for temp in new_cost)] \n",
    "\n",
    "        nextNode=res[0]      \n",
    "    return parents\n",
    "\n",
    "def backpedal(source, target, searchResult,graph):\n",
    "    \n",
    "    node = target\n",
    "    \n",
    "    backpath = [target]\n",
    "    \n",
    "    path = []\n",
    "    \n",
    "    while node != source:\n",
    "        \n",
    "        backpath.append(searchResult[node])\n",
    "        \n",
    "        node = searchResult[node]\n",
    "        \n",
    "    for i in range(len(backpath)):\n",
    "        \n",
    "        path.append(backpath[-i - 1])\n",
    "    \n",
    "    costo_total=0\n",
    "    for i in range (len(path)-1):\n",
    "        costo_total+=graph[path[i]][path[i+1]]\n",
    "\n",
    "    return path,costo_total"
   ]
  },
  {
   "cell_type": "code",
   "execution_count": 12,
   "metadata": {},
   "outputs": [],
   "source": [
    "graph = {'s': {'2': 2, '3': 2},\n",
    "         \n",
    "         '2': {'4': 2, 't': 5,'s':2}, \n",
    "         \n",
    "         '3': {'5': 2,'s':2},\n",
    "         \n",
    "         '4': {'t': 1,'2':2},\n",
    "         \n",
    "         '5': {'t': 2,'3':2},\n",
    "         \n",
    "         't':{'4':1,'5':2,'2':5} }\n",
    "\n",
    "\n",
    "costs = {'s': 0, '2': np.inf, '3': np.inf, '4': np.inf, '5': np.inf, 't': np.inf}\n",
    "\n",
    "parents = {}"
   ]
  },
  {
   "cell_type": "code",
   "execution_count": 13,
   "metadata": {},
   "outputs": [
    {
     "name": "stdout",
     "output_type": "stream",
     "text": [
      "shorth_path=['s', '2', '4', 't']\n",
      "total_cost = 5\n"
     ]
    }
   ],
   "source": [
    "result = search('s', 't', graph, costs, parents)\n",
    "\n",
    "# print('parent dictionary={}'.format(result))\n",
    "print('shorth_path={}'.format(backpedal('s', 't', result,graph)[0]))\n",
    "print('total_cost = {}'.format(backpedal('s', 't', result,graph)[1]))"
   ]
  },
  {
   "cell_type": "markdown",
   "metadata": {},
   "source": [
    "# Maximum Flow\n",
    "# EX4: Basic example MF"
   ]
  },
  {
   "cell_type": "code",
   "execution_count": 14,
   "metadata": {},
   "outputs": [],
   "source": [
    "# Maximum flow Utils\n",
    "def get_usage_string(arc_idxs, res_flow, capacity):\n",
    "    return {arc: '%s/%s' % (flow, cap) for arc, flow, cap in zip(arc_idxs, res_flow, capacity)}\n",
    "\n",
    "def get_min_cut(arc_idxs, np_res_flow, np_capacity):\n",
    "    np_capacity = np.where(np_capacity == None, 999, np_capacity)\n",
    "\n",
    "    idxs = np.argwhere((np_res_flow - np_capacity) == 0)\n",
    "    return [arc_idxs[i[0]] for i in idxs]"
   ]
  },
  {
   "cell_type": "code",
   "execution_count": 15,
   "metadata": {},
   "outputs": [
    {
     "name": "stdout",
     "output_type": "stream",
     "text": [
      "## Optimizer inputs ## \n",
      "Cost vector: [ 0  0  0  0  0  0  0 -1] \n",
      " A_eq Node-Arc matrix:\n",
      "[[ 1  1  0  0  0  0  0 -1]\n",
      " [-1  0  1  1  0  0  0  0]\n",
      " [ 0 -1  0  0  1  0  0  0]\n",
      " [ 0  0 -1  0  0  1  0  0]\n",
      " [ 0  0  0  0 -1  0  1  0]\n",
      " [ 0  0  0 -1  0 -1 -1  1]] \n",
      "b_eq demand-supply vector: [0 0 0 0 0 0] \n",
      "Bounds of each X arc variable: ((0, 7), (0, 1), (0, 2), (0, 3), (0, 2), (0, 1), (0, 2), (0, None)) \n",
      "\n",
      "## Results ## \n",
      "The usage of each arc will be (from, to): {(0, 1): '4/7', (0, 2): '1/1', (1, 3): '1/2', (1, 5): '3/3', (2, 4): '1/2', (3, 5): '1/1', (4, 5): '1/2', (5, 0): '5/None'} \n",
      "The arcs that produce the minimum cut (from, to): [(0, 2), (1, 5), (3, 5)] \n",
      "The maximum flow will be: 5.00 \n"
     ]
    }
   ],
   "source": [
    "# IMPORT THE DATA:\n",
    "NN = np.array([[0, 1, 1, 0, 0, 0],\n",
    "               [0, 0, 0, 1, 0, 1],\n",
    "               [0, 0, 0, 0, 1, 0],\n",
    "               [0, 0, 0, 0, 0, 1],\n",
    "               [0, 0, 0, 0, 0, 1],\n",
    "               [1, 0, 0, 0, 0, 0]])\n",
    "\n",
    "# DATA MANIPULATION:\n",
    "Aeq, arc_idxs = nn2na(NN)\n",
    "C = np.array([0, 0, 0, 0, 0, 0, 0, -1])\n",
    "beq = np.array([0, 0, 0, 0, 0, 0])\n",
    "max_q = [7, 1, 2, 3, 2, 1, 2, None]\n",
    "bounds = tuple([(0, max_q[arcs]) for arcs in range(0, Aeq.shape[1])])\n",
    "\n",
    "print('## Optimizer inputs ## \\n'\n",
    "      'Cost vector: %s \\n '\n",
    "      'A_eq Node-Arc matrix:\\n%s \\n'\n",
    "      'b_eq demand-supply vector: %s \\n'\n",
    "      'Bounds of each X arc variable: %s \\n' % (C, Aeq, beq, bounds))\n",
    "\n",
    "# OPTIMIZE:\n",
    "res = linprog(C, A_eq=Aeq, b_eq=beq, bounds=bounds, method='simplex')\n",
    "\n",
    "# GET THE SOLUTION:\n",
    "usage = get_usage_string(arc_idxs, res.x.astype(int), max_q)\n",
    "min_cut = get_min_cut(arc_idxs, res.x, np.array(max_q))\n",
    "max_flow = res.fun * -1\n",
    "print('## Results ## \\n'\n",
    "      'The usage of each arc will be (from, to): %s \\n'\n",
    "      'The arcs that produce the minimum cut (from, to): %s \\n'\n",
    "      'The maximum flow will be: %0.2f ' % (usage, min_cut , max_flow))"
   ]
  },
  {
   "cell_type": "code",
   "execution_count": 16,
   "metadata": {},
   "outputs": [
    {
     "data": {
      "text/plain": [
       "((0, 7), (0, 1), (0, 2), (0, 3), (0, 2), (0, 1), (0, 2), (0, None))"
      ]
     },
     "execution_count": 16,
     "metadata": {},
     "output_type": "execute_result"
    }
   ],
   "source": [
    "bounds"
   ]
  },
  {
   "cell_type": "code",
   "execution_count": 17,
   "metadata": {},
   "outputs": [
    {
     "data": {
      "text/plain": [
       "array([4., 1., 1., 3., 1., 1., 1., 5.])"
      ]
     },
     "execution_count": 17,
     "metadata": {},
     "output_type": "execute_result"
    }
   ],
   "source": [
    "res.x"
   ]
  },
  {
   "cell_type": "markdown",
   "metadata": {},
   "source": [
    "# Maximum Flow\n",
    "# EX5: Basic example MF with Ford Fulkerson algorithm"
   ]
  },
  {
   "cell_type": "code",
   "execution_count": 18,
   "metadata": {},
   "outputs": [
    {
     "name": "stdout",
     "output_type": "stream",
     "text": [
      "5\n"
     ]
    }
   ],
   "source": [
    "\"\"\"\n",
    "Description:\n",
    "    (1) Start with initial flow as 0;\n",
    "    (2) Choose augmenting path from source to sink and add path to flow;\n",
    "\"\"\"\n",
    " \n",
    "def BFS(graph, s, t, parent):\n",
    "    # Return True if there is node that has not iterated.\n",
    "    visited = [False] * len(graph)\n",
    "    queue = []\n",
    "    queue.append(s)\n",
    "    visited[s] = True\n",
    " \n",
    "    while queue:\n",
    "        u = queue.pop(0)\n",
    "        for ind in range(len(graph[u])):\n",
    "            if visited[ind] is False and graph[u][ind] > 0:\n",
    "                queue.append(ind)\n",
    "                visited[ind] = True\n",
    "                parent[ind] = u\n",
    " \n",
    "    return True if visited[t] else False\n",
    "\n",
    "def FordFulkerson(graph, source, sink):\n",
    "    \n",
    "    # This array is filled by BFS and to store path\n",
    "    \n",
    "    parent = [-1] * (len(graph))\n",
    "    max_flow = 0\n",
    "    while BFS(graph, source, sink, parent):\n",
    "        path_flow = float(\"Inf\")\n",
    "        s = sink\n",
    " \n",
    "        while s != source:\n",
    "            # Find the minimum value in select path\n",
    "            path_flow = min(path_flow, graph[parent[s]][s])\n",
    "            s = parent[s]\n",
    " \n",
    "        max_flow += path_flow\n",
    "        v = sink\n",
    " \n",
    "        while v != source:\n",
    "            u = parent[v]\n",
    "            graph[u][v] -= path_flow\n",
    "            graph[v][u] += path_flow\n",
    "            v = parent[v]\n",
    "    return max_flow\n",
    " \n",
    " \n",
    "graph = [\n",
    "    [0, 7, 1, 0, 0, 0],\n",
    "    [0, 0, 0, 2, 0, 3],\n",
    "    [0, 0, 0, 0, 2, 0],\n",
    "    [0, 0,0 , 0, 0, 1],\n",
    "    [0, 0, 0, 0, 0, 2],\n",
    "    [0, 0, 0, 0, 0, 0],]\n",
    " \n",
    "source, sink = 0,5\n",
    "print(FordFulkerson(graph, source, sink))"
   ]
  },
  {
   "cell_type": "markdown",
   "metadata": {},
   "source": [
    "# Transport\n",
    "# EX6: Transport model example"
   ]
  },
  {
   "cell_type": "code",
   "execution_count": 19,
   "metadata": {},
   "outputs": [
    {
     "name": "stdout",
     "output_type": "stream",
     "text": [
      "## Optimizer inputs ## \n",
      "Cost vector: [10 20 10 10 10 30] \n",
      " A_eq Node-Arc matrix:\n",
      "[[ 1  1  0  0  0  0]\n",
      " [ 0  0  1  1  0  0]\n",
      " [ 0  0  0  0  1  1]\n",
      " [-1  0 -1  0 -1  0]\n",
      " [ 0 -1  0 -1  0 -1]] \n",
      "b_eq demand-supply vector: [ 10  20  15 -25 -20] \n",
      "Bounds of each X arc variable: ((0, None), (0, None), (0, None), (0, None), (0, None), (0, None)) \n",
      "\n",
      "## Results ## \n",
      "The maximum flow will be: -450.00 \n",
      "The raw solution will be: [10.  0.  0. 20. 15.  0.]\n"
     ]
    }
   ],
   "source": [
    "# IMPORT THE DATA:\n",
    "NN = np.array([[ 0, 0, 0, 1, 1],\n",
    "               [0, 0, 0, 1, 1],\n",
    "               [0, 0, 0, 1, 1],\n",
    "               [0, 0, 0, 0, 0],\n",
    "               [0, 0, 0, 0, 0]])\n",
    "\n",
    "# DATA MANIPULATION:\n",
    "Aeq, arc_idxs = nn2na(NN)\n",
    "\n",
    "C = np.array([10, 20, 10, 10, 10, 30])\n",
    "beq = np.array([10, 20, 15, -25, -20])\n",
    "               \n",
    "bounds = tuple([(0, None) for arcs in range(0, Aeq.shape[1])])\n",
    "\n",
    "print('## Optimizer inputs ## \\n'\n",
    "      'Cost vector: %s \\n '\n",
    "      'A_eq Node-Arc matrix:\\n%s \\n'\n",
    "      'b_eq demand-supply vector: %s \\n'\n",
    "      'Bounds of each X arc variable: %s \\n' % (C, Aeq, beq, bounds))\n",
    "\n",
    "# OPTIMIZE:\n",
    "res = linprog(C, A_eq=Aeq, b_eq=beq, bounds=bounds, method='simplex')\n",
    "\n",
    "\n",
    "\n",
    "max_flow = res.fun * -1\n",
    "print('## Results ## \\n'\n",
    "      'The maximum flow will be: %0.2f ' % ( max_flow))\n",
    "\n",
    "\n",
    "# GET THE SOLUTION:\n",
    "\n",
    "\n",
    "print('The raw solution will be: %s' % res.x)\n"
   ]
  },
  {
   "cell_type": "markdown",
   "metadata": {},
   "source": [
    "# Dynamic Network Flows\n",
    "# EX7: Emergency Evacuation Plan"
   ]
  },
  {
   "cell_type": "code",
   "execution_count": 20,
   "metadata": {},
   "outputs": [],
   "source": [
    "# IMPORT THE DATA:\n",
    "\n",
    "NN = np.array([\n",
    "    [0,     1, 1, 1, 1, 1, 1,   0, 0, 0, 0, 0, 0,   0, 0, 0, 0, 0, 0,   0, 0, 0, 0, 0, 0,   0],\n",
    "    \n",
    "    [0,     0, 0, 0, 0, 0, 0,   0, 1, 0, 0, 0, 0,   0, 0, 0, 1, 0, 0,   0, 0, 0, 0, 0, 0,   0],\n",
    "    [0,     0, 0, 0, 0, 0, 0,   0, 0, 1, 0, 0, 0,   0, 0, 0, 0, 1, 0,   0, 0, 0, 0, 0, 0,   0],\n",
    "    [0,     0, 0, 0, 0, 0, 0,   0, 0, 0, 1, 0, 0,   0, 0, 0, 0, 0, 1,   0, 0, 0, 0, 0, 0,   0],\n",
    "    [0,     0, 0, 0, 0, 0, 0,   0, 0, 0, 0, 1, 0,   0, 0, 0, 0, 0, 0,   0, 0, 0, 0, 0, 0,   0],\n",
    "    [0,     0, 0, 0, 0, 0, 0,   0, 0, 0, 0, 0, 1,   0, 0, 0, 0, 0, 0,   0, 0, 0, 0, 0, 0,   0],\n",
    "    [0,     0, 0, 0, 0, 0, 0,   0, 0, 0, 0, 0, 0,   0, 0, 0, 0, 0, 0,   0, 0, 0, 0, 0, 0,   0],\n",
    "    \n",
    "    [0,     0, 0, 0, 0, 0, 0,   0, 0, 0, 0, 0, 0,   0, 0, 1, 0, 0, 0,   0, 1, 0, 0, 0, 0,   0],\n",
    "    [0,     0, 0, 0, 0, 0, 0,   0, 0, 0, 0, 0, 0,   0, 0, 0, 1, 0, 0,   0, 0, 1, 0, 0, 0,   0],\n",
    "    [0,     0, 0, 0, 0, 0, 0,   0, 0, 0, 0, 0, 0,   0, 0, 0, 0, 1, 0,   0, 0, 0, 1, 0, 0,   0],\n",
    "    [0,     0, 0, 0, 0, 0, 0,   0, 0, 0, 0, 0, 0,   0, 0, 0, 0, 0, 1,   0, 0, 0, 0, 1, 0,   0],\n",
    "    [0,     0, 0, 0, 0, 0, 0,   0, 0, 0, 0, 0, 0,   0, 0, 0, 0, 0, 0,   0, 0, 0, 0, 0, 1,   0],\n",
    "    [0,     0, 0, 0, 0, 0, 0,   0, 0, 0, 0, 0, 0,   0, 0, 0, 0, 0, 0,   0, 0, 0, 0, 0, 0,   0],\n",
    "    \n",
    "    [0,     0, 0, 0, 0, 0, 0,   0, 0, 0, 0, 0, 0,   0, 0, 0, 0, 0, 0,   0, 1, 0, 0, 0, 0,   0],\n",
    "    [0,     0, 0, 0, 0, 0, 0,   0, 0, 0, 0, 0, 0,   0, 0, 0, 0, 0, 0,   0, 0, 1, 0, 0, 0,   0],\n",
    "    [0,     0, 0, 0, 0, 0, 0,   0, 0, 0, 0, 0, 0,   0, 0, 0, 0, 0, 0,   0, 0, 0, 1, 0, 0,   0],\n",
    "    [0,     0, 0, 0, 0, 0, 0,   0, 0, 0, 0, 0, 0,   0, 0, 0, 0, 0, 0,   0, 0, 0, 0, 1, 0,   0],\n",
    "    [0,     0, 0, 0, 0, 0, 0,   0, 0, 0, 0, 0, 0,   0, 0, 0, 0, 0, 0,   0, 0, 0, 0, 0, 1,   0],\n",
    "    [0,     0, 0, 0, 0, 0, 0,   0, 0, 0, 0, 0, 0,   0, 0, 0, 0, 0, 0,   0, 0, 0, 0, 0, 0,   0],\n",
    "    \n",
    "    [0,     0, 0, 0, 0, 0, 0,   0, 0, 0, 0, 0, 0,   0, 0, 0, 0, 0, 0,   0, 0, 0, 0, 0, 0,   1],\n",
    "    [0,     0, 0, 0, 0, 0, 0,   0, 0, 0, 0, 0, 0,   0, 0, 0, 0, 0, 0,   0, 0, 0, 0, 0, 0,   1],\n",
    "    [0,     0, 0, 0, 0, 0, 0,   0, 0, 0, 0, 0, 0,   0, 0, 0, 0, 0, 0,   0, 0, 0, 0, 0, 0,   1],\n",
    "    [0,     0, 0, 0, 0, 0, 0,   0, 0, 0, 0, 0, 0,   0, 0, 0, 0, 0, 0,   0, 0, 0, 0, 0, 0,   1],\n",
    "    [0,     0, 0, 0, 0, 0, 0,   0, 0, 0, 0, 0, 0,   0, 0, 0, 0, 0, 0,   0, 0, 0, 0, 0, 0,   1],\n",
    "    [0,     0, 0, 0, 0, 0, 0,   0, 0, 0, 0, 0, 0,   0, 0, 0, 0, 0, 0,   0, 0, 0, 0, 0, 0,   1],\n",
    "    \n",
    "    [1,     0, 0, 0, 0, 0, 0,   0, 0, 0, 0, 0, 0,   0, 0, 0, 0, 0, 0,   0, 0, 0, 0, 0, 0,   0],\n",
    "])"
   ]
  },
  {
   "cell_type": "code",
   "execution_count": 21,
   "metadata": {},
   "outputs": [
    {
     "name": "stdout",
     "output_type": "stream",
     "text": [
      "## Results ## \n",
      "The usage of each arc will be (from, to): {(0, 1): '6/inf', (0, 2): '6/inf', (0, 3): '3/inf', (0, 4): '3/inf', (0, 5): '0/inf', (0, 6): '0/inf', (1, 8): '5/5', (1, 16): '1/10', (2, 9): '5/5', (2, 17): '1/10', (3, 10): '3/5', (3, 18): '0/10', (4, 11): '3/5', (5, 12): '0/5', (7, 15): '0/6', (7, 20): '0/3', (8, 16): '2/6', (8, 21): '3/3', (9, 17): '2/6', (9, 22): '3/3', (10, 18): '0/6', (10, 23): '3/3', (11, 24): '3/3', (13, 20): '0/3', (14, 21): '0/3', (15, 22): '0/3', (16, 23): '3/3', (17, 24): '3/3', (19, 25): '0/inf', (20, 25): '0/inf', (21, 25): '3/inf', (22, 25): '3/inf', (23, 25): '6/inf', (24, 25): '6/inf', (25, 0): '18/inf'} \n",
      "The arcs that produce the minimum cut (from, to): [(1, 8), (2, 9), (8, 21), (9, 22), (10, 23), (11, 24), (16, 23), (17, 24)] \n",
      "\n",
      "\n",
      "The maximum flow will be: 18.00 \n"
     ]
    }
   ],
   "source": [
    "# DATA MANIPULATION:\n",
    "Aeq, arc_idxs = nn2na(NN)\n",
    "\n",
    "C = np.zeros((1,Aeq.shape[1]))\n",
    "C[0,Aeq.shape[1]-1]=-1\n",
    "\n",
    "beq = np.zeros((1,Aeq.shape[0]))\n",
    "\n",
    "max_q = [np.inf, np.inf , np.inf, np.inf, np.inf,np.inf,\n",
    "         5,10,5,10,5,10,5,5,\n",
    "         6,3,6,3,6,3,6,3,3,\n",
    "         3,3,3,3,3,\n",
    "         np.inf, np.inf , np.inf, np.inf, np.inf,np.inf,\\\n",
    "         np.inf]\n",
    "\n",
    "bounds = tuple([(0, max_q[arcs]) for arcs in range(0, Aeq.shape[1])])\n",
    "\n",
    "# print('## Optimizer inputs ## \\n'\n",
    "#       'Cost vector: %s \\n '\n",
    "#       'A_eq Node-Arc matrix:\\n%s \\n'\n",
    "#       'b_eq demand-supply vector: %s \\n'\n",
    "#       'Bounds of each X arc variable: %s \\n' % (C, Aeq, beq, bounds))\n",
    "\n",
    "# OPTIMIZE:\n",
    "res = linprog(C, A_eq=Aeq, b_eq=beq, bounds=bounds, method='simplex')\n",
    "\n",
    "# GET THE SOLUTION:\n",
    "usage = get_usage_string(arc_idxs, res.x.astype(int), max_q)\n",
    "min_cut = get_min_cut(arc_idxs, res.x, np.array(max_q))\n",
    "max_flow = res.fun * -1\n",
    "print('## Results ## \\n'\n",
    "      'The usage of each arc will be (from, to): %s \\n'\n",
    "      'The arcs that produce the minimum cut (from, to): %s \\n'\n",
    "      \"\\n\"\n",
    "      \"\\n\"\n",
    "      'The maximum flow will be: %0.2f ' % (usage, min_cut , max_flow))"
   ]
  },
  {
   "cell_type": "code",
   "execution_count": 22,
   "metadata": {},
   "outputs": [
    {
     "name": "stdout",
     "output_type": "stream",
     "text": [
      "\n",
      " ## Results for interior-point ## \n",
      "The maximum flow will be: 18.00 \n",
      "\n",
      " ## Results for revised simplex ## \n",
      "The maximum flow will be: 18.00 \n",
      "\n",
      " ## Results for simplex ## \n",
      "The maximum flow will be: 18.00 \n"
     ]
    }
   ],
   "source": [
    "for name_method in 'interior-point', 'revised simplex', 'simplex':\n",
    "    # OPTIMIZE:\n",
    "    res = linprog(C, A_eq=Aeq, b_eq=beq, bounds=bounds, method=name_method)\n",
    "\n",
    "    # GET THE SOLUTION:\n",
    "    usage = get_usage_string(arc_idxs, res.x.astype(int), max_q)\n",
    "    min_cut = get_min_cut(arc_idxs, res.x, np.array(max_q))\n",
    "    max_flow = res.fun * -1\n",
    "    print('\\n ## Results for %s ## ' % name_method)\n",
    "    print('The maximum flow will be: %0.2f ' % (max_flow))\n"
   ]
  },
  {
   "cell_type": "markdown",
   "metadata": {},
   "source": [
    "# Transshipment problem\n",
    "# EX8"
   ]
  },
  {
   "cell_type": "code",
   "execution_count": 23,
   "metadata": {},
   "outputs": [],
   "source": [
    "## La matriz esta estructurada de esta forma \n",
    "\n",
    "##  P1A P1B P2A P2B P3A P3B     S1A S1B  S2A S2B         V1A V1B  V2A V2B  V3A V3B \n",
    "\n",
    "\n",
    "NN= np.array([\n",
    "\n",
    "    [     0, 0, 0, 0, 0, 0,         1, 0, 1, 0,                  0, 0, 0, 0, 0, 0,   ],\n",
    "    [     0, 0, 0, 0, 0, 0,         0, 1, 0, 1,                  0, 0, 0, 0, 0, 0,   ],\n",
    "    [     0, 0, 0, 0, 0, 0,         1, 0, 1, 0,                  0, 0, 0, 0, 0, 0,   ],\n",
    "    [     0, 0, 0, 0, 0, 0,         0, 1, 0, 1,                  0, 0, 0, 0, 0, 0,   ],\n",
    "    [     0, 0, 0, 0, 0, 0,         1, 0, 1, 0,                  0, 0, 0, 0, 0, 0,   ],\n",
    "    [     0, 0, 0, 0, 0, 0,         0, 1, 0, 1,                  0, 0, 0, 0, 0, 0,   ],\n",
    "    \n",
    "    [     0, 0, 0, 0, 0, 0,         0, 0, 0, 0,                  1, 0, 1, 0, 1, 0,   ],\n",
    "    [     0, 0, 0, 0, 0, 0,         0, 0, 0, 0,                  0, 1, 0, 1, 0, 1,   ],\n",
    "    [     0, 0, 0, 0, 0, 0,         0, 0, 0, 0,                  1, 0, 1, 0, 1, 0,   ],\n",
    "    [     0, 0, 0, 0, 0, 0,         0, 0, 0, 0,                  0, 1, 0, 1, 0, 1,   ],\n",
    "   \n",
    "    \n",
    "    [     0, 0, 0, 0, 0, 0,         0, 0, 0, 0,                  0, 0, 0, 0, 0, 0,   ],\n",
    "    [     0, 0, 0, 0, 0, 0,         0, 0, 0, 0,                  0, 0, 0, 0, 0, 0,   ],\n",
    "    [     0, 0, 0, 0, 0, 0,         0, 0, 0, 0,                  0, 0, 0, 0, 0, 0,   ],\n",
    "    [     0, 0, 0, 0, 0, 0,         0, 0, 0, 0,                  0, 0, 0, 0, 0, 0,   ],\n",
    "    [     0, 0, 0, 0, 0, 0,         0, 0, 0, 0,                  0, 0, 0, 0, 0, 0,   ],\n",
    "    [     0, 0, 0, 0, 0, 0,         0, 0, 0, 0,                  0, 0, 0, 0, 0, 0,   ], \n",
    "\n",
    "\n",
    "])"
   ]
  },
  {
   "cell_type": "code",
   "execution_count": 24,
   "metadata": {},
   "outputs": [
    {
     "data": {
      "text/plain": [
       "(16, 24)"
      ]
     },
     "execution_count": 24,
     "metadata": {},
     "output_type": "execute_result"
    }
   ],
   "source": [
    "NA, arc_idxs = nn2na(NN)\n",
    "NA.shape"
   ]
  },
  {
   "cell_type": "code",
   "execution_count": 25,
   "metadata": {},
   "outputs": [
    {
     "name": "stdout",
     "output_type": "stream",
     "text": [
      "## Optimizer inputs ## \n",
      "Cost vector: [100 100 200 200 150 150 150 150 200 200 100 100 100 150 200 200 150 100\n",
      " 100 150 200 200 150 100] \n",
      " A Node-Arc matrix:\n",
      "[[1. 1. 0. 0. 0. 0. 0. 0. 0. 0. 0. 0. 0. 0. 0. 0. 0. 0. 0. 0. 0. 0. 0. 0.]\n",
      " [0. 0. 1. 1. 0. 0. 0. 0. 0. 0. 0. 0. 0. 0. 0. 0. 0. 0. 0. 0. 0. 0. 0. 0.]\n",
      " [0. 0. 0. 0. 1. 1. 0. 0. 0. 0. 0. 0. 0. 0. 0. 0. 0. 0. 0. 0. 0. 0. 0. 0.]\n",
      " [0. 0. 0. 0. 0. 0. 1. 1. 0. 0. 0. 0. 0. 0. 0. 0. 0. 0. 0. 0. 0. 0. 0. 0.]\n",
      " [0. 0. 0. 0. 0. 0. 0. 0. 1. 1. 0. 0. 0. 0. 0. 0. 0. 0. 0. 0. 0. 0. 0. 0.]\n",
      " [0. 0. 0. 0. 0. 0. 0. 0. 0. 0. 1. 1. 0. 0. 0. 0. 0. 0. 0. 0. 0. 0. 0. 0.]\n",
      " [0. 0. 0. 0. 0. 0. 0. 0. 0. 0. 0. 0. 0. 0. 0. 0. 0. 0. 0. 0. 0. 0. 0. 0.]\n",
      " [0. 0. 0. 0. 0. 0. 0. 0. 0. 0. 0. 0. 0. 0. 0. 0. 0. 0. 0. 0. 0. 0. 0. 0.]\n",
      " [0. 0. 0. 0. 0. 0. 0. 0. 0. 0. 0. 0. 0. 0. 0. 0. 0. 0. 0. 0. 0. 0. 0. 0.]\n",
      " [0. 0. 0. 0. 0. 0. 0. 0. 0. 0. 0. 0. 0. 0. 0. 0. 0. 0. 0. 0. 0. 0. 0. 0.]\n",
      " [0. 0. 0. 0. 0. 0. 0. 0. 0. 0. 0. 0. 0. 0. 0. 0. 0. 0. 0. 0. 0. 0. 0. 0.]\n",
      " [0. 0. 0. 0. 0. 0. 0. 0. 0. 0. 0. 0. 0. 0. 0. 0. 0. 0. 0. 0. 0. 0. 0. 0.]\n",
      " [0. 0. 0. 0. 0. 0. 0. 0. 0. 0. 0. 0. 0. 0. 0. 0. 0. 0. 0. 0. 0. 0. 0. 0.]\n",
      " [0. 0. 0. 0. 0. 0. 0. 0. 0. 0. 0. 0. 0. 0. 0. 0. 0. 0. 0. 0. 0. 0. 0. 0.]\n",
      " [0. 0. 0. 0. 0. 0. 0. 0. 0. 0. 0. 0. 0. 0. 0. 0. 0. 0. 0. 0. 0. 0. 0. 0.]\n",
      " [0. 0. 0. 0. 0. 0. 0. 0. 0. 0. 0. 0. 0. 0. 0. 0. 0. 0. 0. 0. 0. 0. 0. 0.]] \n",
      "b_A offert-supply vector: [20 30 10 40 30 10  0  0  0  0  0  0  0  0  0  0] \n",
      "Bounds of each X arc variable: ((0, None), (0, None), (0, None), (0, None), (0, None), (0, None), (0, None), (0, None), (0, None), (0, None), (0, None), (0, None), (0, None), (0, None), (0, None), (0, None), (0, None), (0, None), (0, None), (0, None), (0, None), (0, None), (0, None), (0, None)) \n",
      "\n",
      "## Optimizer inputs ## \n",
      "Cost vector: [100 100 200 200 150 150 150 150 200 200 100 100 100 150 200 200 150 100\n",
      " 100 150 200 200 150 100] \n",
      " A_eq Node-Arc matrix:\n",
      "[[ 0.  0.  0.  0.  0.  0.  0.  0.  0.  0.  0.  0.  0.  0.  0.  0.  0.  0.\n",
      "   0.  0.  0.  0.  0.  0.]\n",
      " [ 0.  0.  0.  0.  0.  0.  0.  0.  0.  0.  0.  0.  0.  0.  0.  0.  0.  0.\n",
      "   0.  0.  0.  0.  0.  0.]\n",
      " [ 0.  0.  0.  0.  0.  0.  0.  0.  0.  0.  0.  0.  0.  0.  0.  0.  0.  0.\n",
      "   0.  0.  0.  0.  0.  0.]\n",
      " [ 0.  0.  0.  0.  0.  0.  0.  0.  0.  0.  0.  0.  0.  0.  0.  0.  0.  0.\n",
      "   0.  0.  0.  0.  0.  0.]\n",
      " [ 0.  0.  0.  0.  0.  0.  0.  0.  0.  0.  0.  0.  0.  0.  0.  0.  0.  0.\n",
      "   0.  0.  0.  0.  0.  0.]\n",
      " [ 0.  0.  0.  0.  0.  0.  0.  0.  0.  0.  0.  0.  0.  0.  0.  0.  0.  0.\n",
      "   0.  0.  0.  0.  0.  0.]\n",
      " [-1.  0.  0.  0. -1.  0.  0.  0. -1.  0.  0.  0.  1.  1.  1.  0.  0.  0.\n",
      "   0.  0.  0.  0.  0.  0.]\n",
      " [ 0.  0. -1.  0.  0.  0. -1.  0.  0.  0. -1.  0.  0.  0.  0.  1.  1.  1.\n",
      "   0.  0.  0.  0.  0.  0.]\n",
      " [ 0. -1.  0.  0.  0. -1.  0.  0.  0. -1.  0.  0.  0.  0.  0.  0.  0.  0.\n",
      "   1.  1.  1.  0.  0.  0.]\n",
      " [ 0.  0.  0. -1.  0.  0.  0. -1.  0.  0.  0. -1.  0.  0.  0.  0.  0.  0.\n",
      "   0.  0.  0.  1.  1.  1.]\n",
      " [ 0.  0.  0.  0.  0.  0.  0.  0.  0.  0.  0.  0. -1.  0.  0.  0.  0.  0.\n",
      "  -1.  0.  0.  0.  0.  0.]\n",
      " [ 0.  0.  0.  0.  0.  0.  0.  0.  0.  0.  0.  0.  0.  0.  0. -1.  0.  0.\n",
      "   0.  0.  0. -1.  0.  0.]\n",
      " [ 0.  0.  0.  0.  0.  0.  0.  0.  0.  0.  0.  0.  0. -1.  0.  0.  0.  0.\n",
      "   0. -1.  0.  0.  0.  0.]\n",
      " [ 0.  0.  0.  0.  0.  0.  0.  0.  0.  0.  0.  0.  0.  0.  0.  0. -1.  0.\n",
      "   0.  0.  0.  0. -1.  0.]\n",
      " [ 0.  0.  0.  0.  0.  0.  0.  0.  0.  0.  0.  0.  0.  0. -1.  0.  0.  0.\n",
      "   0.  0. -1.  0.  0.  0.]\n",
      " [ 0.  0.  0.  0.  0.  0.  0.  0.  0.  0.  0.  0.  0.  0.  0.  0.  0. -1.\n",
      "   0.  0.  0.  0.  0. -1.]] \n",
      "b_eq demand-supply vector: [  0   0   0   0   0   0   0   0   0   0 -30 -40 -10 -20 -20 -20] \n",
      "Bounds of each X arc variable: ((0, None), (0, None), (0, None), (0, None), (0, None), (0, None), (0, None), (0, None), (0, None), (0, None), (0, None), (0, None), (0, None), (0, None), (0, None), (0, None), (0, None), (0, None), (0, None), (0, None), (0, None), (0, None), (0, None), (0, None)) \n",
      "\n",
      "## Results ## \n",
      "The maximum flow will be: -44000.00 \n",
      "The raw solution will be: [20.  0. 30.  0. 10.  0. 40.  0. 30.  0. 10.  0. 30. 10. 20. 40. 20. 20.\n",
      "  0.  0.  0.  0.  0.  0.]\n"
     ]
    }
   ],
   "source": [
    "\n",
    "# DATA MANIPULATION:\n",
    "\n",
    "NA, arc_idxs = nn2na(NN)\n",
    "m,n=NA.shape\n",
    "\n",
    "A=np.zeros((m,n))\n",
    "A[0:6,:]=NA[0:6,:]\n",
    "\n",
    "\n",
    "Aeq=np.zeros((m,n))\n",
    "Aeq[6:m,:]=NA[6:m,:]\n",
    "\n",
    "C = np.array([100,100,  200,200   ,150,150,       150,150,   200,200    ,100,100,\n",
    "              \n",
    "              100,150 ,200,     200,150,100,      100,150 ,200,   200,150,100,])\n",
    "\n",
    "\n",
    "b_A = np.array([20,30,10,40,30,10,  0,0,0,0,  0,0,0,0,0,0])\n",
    "\n",
    "beq = np.array([0,0,0,0,0,0,  0,0,0,0,  -30,-40,-10,-20,-20,-20])\n",
    "\n",
    "\n",
    "               \n",
    "bounds = tuple([(0, None) for arcs in range(0, NA.shape[1])])\n",
    "\n",
    "print('## Optimizer inputs ## \\n'\n",
    "      'Cost vector: %s \\n '\n",
    "      'A Node-Arc matrix:\\n%s \\n'\n",
    "      'b_A offert-supply vector: %s \\n'\n",
    "      'Bounds of each X arc variable: %s \\n' % (C, A, b_A, bounds))\n",
    "\n",
    "\n",
    "\n",
    "\n",
    "print('## Optimizer inputs ## \\n'\n",
    "      'Cost vector: %s \\n '\n",
    "      'A_eq Node-Arc matrix:\\n%s \\n'\n",
    "      'b_eq demand-supply vector: %s \\n'\n",
    "      'Bounds of each X arc variable: %s \\n' % (C, Aeq, beq, bounds))\n",
    "\n",
    "\n",
    "\n",
    "# OPTIMIZE:\n",
    "res = linprog(C,  A_ub=A, b_ub=b_A,   A_eq=Aeq, b_eq=beq    , bounds=bounds, method='simplex')\n",
    "\n",
    "\n",
    "\n",
    "max_flow = res.fun * -1\n",
    "print('## Results ## \\n'\n",
    "      'The maximum flow will be: %0.2f ' % ( max_flow))\n",
    "\n",
    "\n",
    "\n",
    "# GET THE SOLUTION:\n",
    "\n",
    "print('The raw solution will be: %s' % res.x)"
   ]
  },
  {
   "cell_type": "markdown",
   "metadata": {},
   "source": [
    "# Shortest path with time constraints\n",
    "# EX09: direct LP approach"
   ]
  },
  {
   "cell_type": "code",
   "execution_count": 26,
   "metadata": {},
   "outputs": [
    {
     "name": "stdout",
     "output_type": "stream",
     "text": [
      "## Optimizer inputs ## \n",
      "Cost vector: [2 1 2 5 2 1 2] \n",
      " A_eq Node-Arc matrix:\n",
      "[[ 1  1  0  0  0  0  0]\n",
      " [-1  0  1  1  0  0  0]\n",
      " [ 0 -1  0  0  1  0  0]\n",
      " [ 0  0 -1  0  0  1  0]\n",
      " [ 0  0  0  0 -1  0  1]\n",
      " [ 0  0  0 -1  0 -1 -1]] \n",
      "b_eq demand-supply vector: [ 1  0  0  0  0 -1] \n",
      "Bounds of each X arc variable: ((0, None), (0, None), (0, None), (0, None), (0, None), (0, None), (0, None)) \n",
      "\n",
      "## Results ## \n",
      " for_T= 8\n",
      "The raw solution will be: [0.2 0.8 0.  0.2 0.8 0.  0.8]\n",
      "The arcs that make the shortest path will be (from, to): []\n",
      "The minimum cost will be: 5.40  \n",
      "\n",
      "## Results ## \n",
      " for_T= 9\n",
      "The raw solution will be: [0. 1. 0. 0. 1. 0. 1.]\n",
      "The arcs that make the shortest path will be (from, to): [(0, 2), (2, 4), (4, 5)]\n",
      "The minimum cost will be: 5.00  \n",
      "\n"
     ]
    }
   ],
   "source": [
    "# IMPORT THE DATA:\n",
    "NN = np.array([[0, 1, 1, 0, 0, 0],\n",
    "               [0, 0, 0, 1, 0, 1],\n",
    "               [0, 0, 0, 0, 1, 0],\n",
    "               [0, 0, 0, 0, 0, 1],\n",
    "               [0, 0, 0, 0, 0, 1],\n",
    "               [0, 0, 0, 0, 0, 0]])\n",
    "\n",
    "# DATA MANIPULATION:\n",
    "\n",
    "C = np.array([2,1,2,5,2,1,2])\n",
    "\n",
    "Aeq, arc_idxs = nn2na(NN)\n",
    "\n",
    "beq = np.array([1, 0, 0, 0, 0, -1])\n",
    "\n",
    "t=np.matrix([[3,1,3,1,3,3,5]])\n",
    "\n",
    "T=[8,9]\n",
    "\n",
    "bounds = tuple([(0, None) for arcs in range(0, Aeq.shape[1])])\n",
    "\n",
    "print('## Optimizer inputs ## \\n'\n",
    "      'Cost vector: %s \\n '\n",
    "      'A_eq Node-Arc matrix:\\n%s \\n'\n",
    "      'b_eq demand-supply vector: %s \\n'\n",
    "      'Bounds of each X arc variable: %s \\n' % (C, Aeq, beq, bounds))\n",
    "\n",
    "\n",
    "for i in T:\n",
    "    \n",
    "    # OPTIMIZE:\n",
    "    \n",
    "    res = linprog(C,    A_ub=t, b_ub=i  ,  A_eq=Aeq, b_eq=beq, bounds=bounds,method=\"simplex\")\n",
    "\n",
    "    # GET THE SOLUTION:\n",
    "    selarcs = get_selected_arcs(arc_idxs, res.x)\n",
    "    print('## Results ## \\n '\n",
    "           \"for_T= %s\" % i)\n",
    "    print('The raw solution will be: %s' % res.x)\n",
    "    \n",
    "    \n",
    "    print('The arcs that make the shortest path will be (from, to): %s' % selarcs)\n",
    "    \n",
    "    \n",
    "    print('The minimum cost will be: %0.2f  \\n' % res.fun)"
   ]
  },
  {
   "cell_type": "markdown",
   "metadata": {},
   "source": [
    "## Para T=8 no encuentra un camino que minimice el costo "
   ]
  },
  {
   "cell_type": "markdown",
   "metadata": {},
   "source": [
    "# Shortest path with time constraints\n",
    "# EX10: Lagrangian Relaxation"
   ]
  },
  {
   "cell_type": "code",
   "execution_count": 27,
   "metadata": {},
   "outputs": [
    {
     "name": "stdout",
     "output_type": "stream",
     "text": [
      "## Results ## \n",
      " \n",
      " T<= 8 \n",
      "\n",
      "The raw solution will be: [0. 1. 0. 0. 1. 0. 1.]\n",
      "The arcs that make the shortest path will be (from, to): [(0, 2), (2, 4), (4, 5)]\n",
      "The minimum cost will be: 8.57  \n",
      "\n",
      "The optimum lagrangian multipliers λ  is : 0.40 \n",
      "The optimum lagrangian L(λ)  is : 5.40 \n"
     ]
    },
    {
     "data": {
      "image/png": "[encoded data removed]",
      "text/plain": [
       "<Figure size 864x504 with 1 Axes>"
      ]
     },
     "metadata": {
      "needs_background": "light"
     },
     "output_type": "display_data"
    }
   ],
   "source": [
    "# IMPORT THE DATA:\n",
    "NN = np.array([[0, 1, 1, 0, 0, 0],\n",
    "               [0, 0, 0, 1, 0, 1],\n",
    "               [0, 0, 0, 0, 1, 0],\n",
    "               [0, 0, 0, 0, 0, 1],\n",
    "               [0, 0, 0, 0, 0, 1],\n",
    "               [0, 0, 0, 0, 0, 0]])\n",
    "\n",
    "\n",
    "# DATA MANIPULATION:\n",
    "\n",
    "C = np.matrix([2,1,2,5,2,1,2])\n",
    "\n",
    "Aeq, arc_idxs = nn2na(NN)\n",
    "\n",
    "beq = np.array([1, 0, 0, 0, 0, -1])\n",
    "\n",
    "t=np.matrix([[3,1,3,1,3,3,5]])\n",
    "\n",
    "T=8\n",
    "\n",
    "lambda_=np.linspace(0,1,200)\n",
    "bounds = tuple([(0, None) for arcs in range(0, Aeq.shape[1])])\n",
    "\n",
    "\n",
    "Lagrange=[]\n",
    "for i in lambda_:\n",
    "    \n",
    "    # OPTIMIZE:\n",
    "    C_monio=(C.T +i*t.T).T\n",
    "    \n",
    "    res = linprog(C_monio, A_eq=Aeq, b_eq=beq, bounds=bounds,method=\"simplex\")\n",
    "    \n",
    "    Lagrange.append(res.fun - i*T)\n",
    "       \n",
    " \n",
    "#GET THE SOLUTION:\n",
    "\n",
    "# OPTIMUM:\n",
    "lamda_optimum=lambda_[np.where(Lagrange==np.max(Lagrange))[0][0]]\n",
    "\n",
    "C_monio=(C.T +lamda_optimum *t.T).T\n",
    "\n",
    "res = linprog(C_monio, A_eq=Aeq, b_eq=beq, bounds=bounds,method=\"simplex\")\n",
    "\n",
    "\n",
    "Lagrange_optimu =res.fun - lamda_optimum*T\n",
    "\n",
    "selarcs = get_selected_arcs(arc_idxs, res.x)\n",
    "\n",
    "\n",
    "\n",
    "\n",
    "\n",
    "print('## Results ## \\n '\n",
    "       \"\\n T<= %s \\n\" % T)\n",
    "\n",
    "print('The raw solution will be: %s' % res.x)\n",
    "\n",
    "\n",
    "print('The arcs that make the shortest path will be (from, to): %s' % selarcs)\n",
    "\n",
    "\n",
    "print('The minimum cost will be: %0.2f  \\n' % res.fun)\n",
    "\n",
    "print(\"The optimum lagrangian multipliers λ  is : %0.2f \" % lamda_optimum)\n",
    "\n",
    "print(\"The optimum lagrangian L(λ)  is : %0.2f \" % Lagrange_optimu)\n",
    "\n",
    "\n",
    "sns.set_context(\"talk\", font_scale=0.85)\n",
    "\n",
    "plt.figure(figsize=(12, 7))\n",
    "\n",
    "plt.plot(lambda_,Lagrange,color=\"red\")\n",
    "           \n",
    "plt.grid()\n",
    "plt.title('Objective Function Primal Solutions')\n",
    "\n",
    "plt.ylabel('$L(\\lambda )$')\n",
    "           \n",
    "plt.xlabel('$ \\lambda $')\n",
    "\n",
    "\n",
    "plt.xlim([0,1])\n",
    "\n",
    "plt.show()\n"
   ]
  },
  {
   "cell_type": "markdown",
   "metadata": {},
   "source": [
    "# Shortest path with time constraints\n",
    "# EX11: Lagrangian Relaxation with Subgradient Method"
   ]
  },
  {
   "cell_type": "code",
   "execution_count": 28,
   "metadata": {},
   "outputs": [
    {
     "name": "stdout",
     "output_type": "stream",
     "text": [
      "The arcs that make the shortest path will be (from, to): [(0, 2), (2, 4), (4, 5)] \n",
      " \n",
      "The optimum lagrangian multipliers λ  is 0.40 : \n",
      "\n",
      "The optimum lagrangian L(λ)  is : 5.40 \n"
     ]
    }
   ],
   "source": [
    "T=8\n",
    "\n",
    "lambda_i=0\n",
    "tol=10**-3\n",
    "diff=np.inf\n",
    "i=1\n",
    "\n",
    "while diff >tol:\n",
    "    \n",
    "    # OPTIMIZE:\n",
    "    C_m=(C.T +lambda_i * t.T).T\n",
    "    \n",
    "    res = linprog(C_m, A_eq=Aeq, b_eq=beq, bounds=bounds,method=\"simplex\")\n",
    "    \n",
    "    Lagrange= res.fun - lambda_i*T\n",
    "    \n",
    "    \n",
    "    gradiente=( t @ res.x  -T)[0,0]\n",
    "    \n",
    "    \n",
    "    step=1/i\n",
    "    \n",
    "    \n",
    "    \n",
    "    lambda_0=lambda_i\n",
    "    \n",
    "    lambda_i = lambda_0 + step*gradiente\n",
    "    \n",
    "    lambda_i=max(0,lambda_i)\n",
    "    \n",
    "    diff = abs(lambda_i - lambda_0)\n",
    "    \n",
    "    i+=1\n",
    "\n",
    "\n",
    "C_monio=(C.T + lambda_0*t.T).T\n",
    "res = linprog(C_monio, A_eq=Aeq, b_eq=beq, bounds=bounds,method=\"simplex\")\n",
    "selarcs = get_selected_arcs(arc_idxs, res.x)\n",
    "\n",
    "\n",
    "print('The arcs that make the shortest path will be (from, to): %s \\n ' % selarcs)\n",
    "print(\"The optimum lagrangian multipliers λ  is %0.2f : \\n\" % lambda_0 )\n",
    "print(\"The optimum lagrangian L(λ)  is : %0.2f \" % Lagrange)\n",
    "\n"
   ]
  },
  {
   "cell_type": "markdown",
   "metadata": {},
   "source": [
    "# Traveling Salesman Problem\n",
    "# EX12: LP with subtours"
   ]
  },
  {
   "cell_type": "code",
   "execution_count": 59,
   "metadata": {},
   "outputs": [],
   "source": [
    "np.random.seed(100) #Genero la seed para la replicabilidad de los resultados\n",
    "\n",
    "def generator_point(cant_point):\n",
    "    point=[]\n",
    "    x=np.random.random(size=cant_point)\n",
    "    y=np.random.random(size=cant_point)\n",
    "    for i in range (len(x)):\n",
    "        point.append((x[i],y[i]))\n",
    "    return point,x,y\n",
    "\n",
    "def cost_and_NN(vertex):\n",
    "    C=[]\n",
    "    NN=np.zeros([len(vertex),len(vertex)])\n",
    "    \n",
    "    for j in range (len(vertex)):\n",
    "        for i in range (len(vertex)):\n",
    "            if j!=i:\n",
    "                C.append(distance.euclidean(vertex[j], vertex[i]))\n",
    "                NN[i,j]=1\n",
    "    return NN,C\n",
    "\n",
    "\n",
    "# this function find all the subtour in the LP solution.\n",
    "\n",
    "def get_plan(r0):\n",
    "    r=copy.copy(r0)\n",
    "    route = []\n",
    "    while len(r) != 0:\n",
    "        plan = [r[0]]\n",
    "        del (r[0])\n",
    "        l = 0\n",
    "        while len(plan) > l:\n",
    "            l = len(plan)\n",
    "            for i, j in enumerate(r):\n",
    "                if plan[-1][1] == j[0]:\n",
    "                    plan.append(j)\n",
    "                    del (r[i])\n",
    "        route.append(plan)\n",
    "    return(route)"
   ]
  },
  {
   "cell_type": "code",
   "execution_count": 79,
   "metadata": {},
   "outputs": [
    {
     "name": "stdout",
     "output_type": "stream",
     "text": [
      "## Results ## \n",
      " \n",
      "The raw solution will be: [0. 0. 0. 0. 0. 0. 0. 0. 0. 0. 0. 0. 0. 1. 0. 0. 0. 0. 0. 0. 0. 1. 0. 0.\n",
      " 0. 0. 0. 0. 0. 0. 0. 0. 0. 0. 0. 0. 0. 0. 0. 0. 0. 0. 0. 0. 0. 0. 0. 0.\n",
      " 0. 0. 0. 0. 0. 0. 0. 1. 0. 0. 0. 0. 0. 0. 0. 0. 0. 1. 0. 0. 0. 0. 0. 0.\n",
      " 0. 0. 0. 0. 0. 0. 0. 0. 0. 0. 0. 1. 0. 0. 0. 0. 0. 0. 0. 0. 0. 0. 0. 0.\n",
      " 0. 0. 0. 0. 0. 0. 0. 0. 0. 0. 1. 0. 0. 0. 0. 0. 0. 0. 0. 0. 0. 0. 1. 0.\n",
      " 0. 0. 0. 0. 0. 0. 0. 0. 0. 0. 0. 0. 0. 0. 0. 0. 0. 0. 0. 0. 0. 0. 0. 0.\n",
      " 0. 0. 0. 0. 1. 0. 0. 0. 0. 0. 0. 0. 0. 0. 1. 0. 0. 0. 0. 0. 0. 0. 0. 0.\n",
      " 0. 0. 0. 0. 1. 0. 0. 0. 0. 0. 0. 0. 0. 0. 0. 0. 0. 0. 0. 0. 0. 0. 0. 0.\n",
      " 0. 0. 0. 0. 0. 0. 0. 0. 1. 0. 0. 0. 0. 0. 0. 0. 0. 0. 0. 0. 0. 0. 0. 0.\n",
      " 0. 0. 0. 1. 0. 0. 0. 0. 0. 0. 0. 0. 0. 0. 0. 0. 0. 1. 0. 0. 0. 0. 0. 0.\n",
      " 0. 0. 0. 0. 0. 0. 0. 0. 0. 0. 0. 0. 0. 0. 0. 0. 0. 0. 0. 0. 0. 0. 0. 0.\n",
      " 0. 1. 1. 0. 0. 0. 0. 0. 0. 0. 0. 0. 0. 0. 0. 0. 0. 0. 0. 0. 0. 0. 0. 0.\n",
      " 0. 0. 0. 0. 0. 0. 0. 0. 0. 0. 0. 0. 0. 1. 0. 0. 0. 0. 0. 0. 0. 0. 0. 1.\n",
      " 0. 0. 0. 0. 0. 0. 0. 0. 0. 0. 0. 0. 0. 0. 0. 0. 0. 0. 0. 0. 0. 0. 0. 0.\n",
      " 0. 0. 1. 0. 0. 0. 0. 0. 1. 0. 0. 0. 0. 0. 0. 0. 0. 0. 0. 0. 0. 0. 0. 0.\n",
      " 0. 0. 0. 0. 0. 0. 0. 0. 0. 0. 0. 0. 0. 0. 1. 0. 0. 0. 0. 0.]\n",
      "The arcs that make the shortest path will be (from, to): [(0, 14), (1, 3), (2, 18), (3, 9), (4, 8), (5, 12), (6, 4), (7, 16), (8, 6), (9, 1), (10, 11), (11, 10), (12, 5), (13, 19), (14, 0), (15, 17), (16, 7), (17, 15), (18, 2), (19, 13)] \n",
      " \n",
      "The subtours :  [[(0, 14), (14, 0)], [(1, 3), (3, 9), (9, 1)], [(2, 18), (18, 2)], [(4, 8), (8, 6), (6, 4)], [(5, 12), (12, 5)], [(7, 16), (16, 7)], [(10, 11), (11, 10)], [(13, 19), (19, 13)], [(15, 17), (17, 15)]]\n",
      "The minimum cost will be: 2.34  \n",
      "\n"
     ]
    },
    {
     "data": {
      "image/png": "[encoded data removed]",
      "text/plain": [
       "<Figure size 864x504 with 1 Axes>"
      ]
     },
     "metadata": {
      "needs_background": "light"
     },
     "output_type": "display_data"
    }
   ],
   "source": [
    "num=20\n",
    "vertex,x,y=generator_point(num)\n",
    "NN,C=cost_and_NN(vertex)\n",
    "\n",
    "\n",
    "NA, arc_idxs = nn2na(NN)\n",
    "# Aeq\n",
    "Aeq_1 = (NA > 0).astype(int)\n",
    "Aeq_2 = (NA < 0).astype(int)\n",
    "\n",
    "Aeq = np.concatenate([Aeq_1, Aeq_2], axis=0)\n",
    "\n",
    "beq = np.ones([1,Aeq.shape[0]])\n",
    "\n",
    "\n",
    "bounds = tuple([(0, None) for arcs in range(0, Aeq.shape[1])])\n",
    "\n",
    "# print('## Optimizer inputs ## \\n'\n",
    "#       'Cost vector: %s \\n '\n",
    "#       'A_eq Node-Arc matrix:\\n%s \\n'\n",
    "#       'b_eq demand-supply vector: %s \\n'\n",
    "#       'Bounds of each X arc variable: %s \\n' % (C, Aeq, beq, bounds))\n",
    "\n",
    "\n",
    "    \n",
    "res = linprog(C,  A_eq=Aeq, b_eq=beq, bounds=bounds,method=\"simplex\")\n",
    "\n",
    "\n",
    "# GET THE SOLUTION:\n",
    "selarcs = get_selected_arcs(arc_idxs, res.x)\n",
    "\n",
    "print('## Results ## \\n ')\n",
    "\n",
    "print('The raw solution will be: %s' % res.x)\n",
    "\n",
    "\n",
    "print('The arcs that make the shortest path will be (from, to): %s \\n ' % selarcs)\n",
    "print(\"The subtours : \", get_plan(selarcs))\n",
    "\n",
    "print('The minimum cost will be: %0.2f  \\n' % res.fun)\n",
    "\n",
    "\n",
    " \n",
    "sns.set_context(\"talk\", font_scale=0.85)\n",
    "\n",
    "plt.figure(figsize=(12, 7))\n",
    "\n",
    "colors = np.random.rand(len(x))\n",
    "\n",
    "plt.scatter(x, y,s=300,marker=\"*\", c=colors)\n",
    "\n",
    "\n",
    "arrowprops = dict(arrowstyle='->', connectionstyle='arc3', edgecolor='blue')\n",
    "for i, j in selarcs:\n",
    "    plt.annotate('', xy=[x[j],y[j]],xytext=[x[i], y[i]],arrowprops=arrowprops)\n",
    "\n",
    "   \n",
    "plt.title('Graph')\n",
    "\n",
    "\n",
    "plt.show()"
   ]
  },
  {
   "cell_type": "code",
   "execution_count": null,
   "metadata": {},
   "outputs": [],
   "source": []
  }
 ],
 "metadata": {
  "kernelspec": {
   "display_name": "Python 3",
   "language": "python",
   "name": "python3"
  },
  "language_info": {
   "codemirror_mode": {
    "name": "ipython",
    "version": 3
   },
   "file_extension": ".py",
   "mimetype": "text/x-python",
   "name": "python",
   "nbconvert_exporter": "python",
   "pygments_lexer": "ipython3",
   "version": "3.8.5"
  }
 },
 "nbformat": 4,
 "nbformat_minor": 4
}
