{
 "cells": [
  {
   "cell_type": "markdown",
   "metadata": {},
   "source": [
    "# OS11: Models and Algorithms for Logistic and Transport \n",
    "\n",
    "\n",
    "# Osvady Avalos Abreu\n",
    "\n",
    "\n",
    "## Doctorando en Ingeniería -Mención Procesamiento de Señales e Imágenes "
   ]
  },
  {
   "cell_type": "code",
   "execution_count": 46,
   "metadata": {},
   "outputs": [],
   "source": [
    "import pandas as pd\n",
    "import os\n",
    "import numpy as np\n",
    "import scipy.io as sio\n",
    "from scipy import stats\n",
    "from math import factorial\n",
    "import seaborn as sns\n",
    "from scipy.linalg import eigh,eig,eigvals\n",
    "from scipy.optimize import linprog\n",
    "import matplotlib.pyplot as plt\n",
    "from copy import deepcopy"
   ]
  },
  {
   "cell_type": "code",
   "execution_count": 47,
   "metadata": {},
   "outputs": [
    {
     "data": {
      "text/plain": [
       "matrix([[0, 1, 1],\n",
       "        [0, 0, 0],\n",
       "        [0, 1, 0]])"
      ]
     },
     "execution_count": 47,
     "metadata": {},
     "output_type": "execute_result"
    }
   ],
   "source": [
    "NN=np.matrix([[0,1,1],[0,0,0],[0,1,0]])\n",
    "NN"
   ]
  },
  {
   "cell_type": "code",
   "execution_count": 48,
   "metadata": {},
   "outputs": [
    {
     "data": {
      "text/plain": [
       "array([[ 1.,  1.,  0.],\n",
       "       [-1.,  0., -1.],\n",
       "       [ 0., -1.,  1.]])"
      ]
     },
     "execution_count": 48,
     "metadata": {},
     "output_type": "execute_result"
    }
   ],
   "source": [
    "def matrix_nodo_arco(matrix_nodo_nodo):\n",
    "    \n",
    "    n,n=matrix_nodo_nodo.shape\n",
    "    \n",
    "    NA=np.zeros([n,np.count_nonzero(matrix_nodo_nodo)])\n",
    "    nodo,arco=NA.shape\n",
    "    k=0\n",
    "    for i in range(n):\n",
    "        for j in range (n):\n",
    "            if matrix_nodo_nodo[i,j]==1:\n",
    "                NA[i,k]=1\n",
    "                NA[j,k]=-1\n",
    "                k+=1\n",
    "    return NA       \n",
    "matrix_nodo_arco(NN)            "
   ]
  },
  {
   "cell_type": "markdown",
   "metadata": {},
   "source": [
    "## Resolucion de Rodrigo "
   ]
  },
  {
   "cell_type": "code",
   "execution_count": 49,
   "metadata": {},
   "outputs": [],
   "source": [
    "# Matrix treatment:\n",
    "def nn2na(NN):\n",
    "    # Get every location where exist an arc:\n",
    "    idxs = np.argwhere(NN)\n",
    "    # Preallocate NA matrix, dimension is (nodes, arcs)\n",
    "    NA = np.zeros([NN.shape[0], idxs.shape[0]]).astype(int)\n",
    "    C = np.zeros(NA.shape[1])\n",
    "    # Loop in every arc, complete from (1) to (-1)\n",
    "    for i, arc in enumerate(idxs):\n",
    "        # Node arc:\n",
    "        NA[arc[0], i] = 1 # From\n",
    "        NA[arc[1], i] = -1 # To\n",
    "\n",
    "    arc_idxs = [(arc[0], arc[1]) for arc in idxs]\n",
    "\n",
    "    return NA, arc_idxs\n",
    "\n",
    "\n",
    "\n",
    "# Shortest path Utils\n",
    "def get_selected_arcs(arc_idxs, selected_arcs):\n",
    "    arc = []\n",
    "    for idx, i in enumerate(selected_arcs):\n",
    "        if np.isclose(i, 1, rtol=1e-05, atol=1e-08, equal_nan=False): # Vecinity\n",
    "            arc.append(arc_idxs[idx])\n",
    "    return arc\n",
    "\n"
   ]
  },
  {
   "cell_type": "markdown",
   "metadata": {},
   "source": [
    "# EX1: Basic example SP\n",
    "## Shortest Path"
   ]
  },
  {
   "cell_type": "code",
   "execution_count": 50,
   "metadata": {},
   "outputs": [
    {
     "name": "stdout",
     "output_type": "stream",
     "text": [
      "## Optimizer inputs ## \n",
      "Cost vector: [2 2 2 5 2 1 2] \n",
      " A_eq Node-Arc matrix:\n",
      "[[ 1  1  0  0  0  0  0]\n",
      " [-1  0  1  1  0  0  0]\n",
      " [ 0 -1  0  0  1  0  0]\n",
      " [ 0  0 -1  0  0  1  0]\n",
      " [ 0  0  0  0 -1  0  1]\n",
      " [ 0  0  0 -1  0 -1 -1]] \n",
      "b_eq demand-supply vector: [ 1  0  0  0  0 -1] \n",
      "Bounds of each X arc variable: ((0, None), (0, None), (0, None), (0, None), (0, None), (0, None), (0, None)) \n",
      "\n",
      "## Results ##\n",
      "The raw solution will be: [1.00000000e+00 1.07463814e-10 1.00000000e+00 4.87243456e-11\n",
      " 1.07463814e-10 1.00000000e+00 1.07463814e-10]\n",
      "The arcs that make the shortest path will be (from, to): [(0, 1), (1, 3), (3, 5)]\n",
      "The minimum cost will be: 5.00 \n"
     ]
    },
    {
     "name": "stderr",
     "output_type": "stream",
     "text": [
      "<ipython-input-50-a71d07f4f0ae>:22: OptimizeWarning: A_eq does not appear to be of full row rank. To improve performance, check the problem formulation for redundant equality constraints.\n",
      "  res = linprog(C, A_eq=Aeq, b_eq=beq, bounds=bounds)\n"
     ]
    }
   ],
   "source": [
    "# IMPORT THE DATA:\n",
    "NN = np.array([[0, 1, 1, 0, 0, 0],\n",
    "               [0, 0, 0, 1, 0, 1],\n",
    "               [0, 0, 0, 0, 1, 0],\n",
    "               [0, 0, 0, 0, 0, 1],\n",
    "               [0, 0, 0, 0, 0, 1],\n",
    "               [0, 0, 0, 0, 0, 0]])\n",
    "\n",
    "# DATA MANIPULATION:\n",
    "C = np.array([2, 2, 2, 5, 2, 1, 2])\n",
    "Aeq, arc_idxs = nn2na(NN)\n",
    "beq = np.array([1, 0, 0, 0, 0, -1])\n",
    "bounds = tuple([(0, None) for arcs in range(0, Aeq.shape[1])])\n",
    "\n",
    "print('## Optimizer inputs ## \\n'\n",
    "      'Cost vector: %s \\n '\n",
    "      'A_eq Node-Arc matrix:\\n%s \\n'\n",
    "      'b_eq demand-supply vector: %s \\n'\n",
    "      'Bounds of each X arc variable: %s \\n' % (C, Aeq, beq, bounds))\n",
    "\n",
    "# OPTIMIZE:\n",
    "res = linprog(C, A_eq=Aeq, b_eq=beq, bounds=bounds)\n",
    "\n",
    "# GET THE SOLUTION:\n",
    "selarcs = get_selected_arcs(arc_idxs, res.x)\n",
    "print('## Results ##')\n",
    "print('The raw solution will be: %s' % res.x)\n",
    "print('The arcs that make the shortest path will be (from, to): %s' % selarcs)\n",
    "print('The minimum cost will be: %0.2f ' % res.fun)"
   ]
  },
  {
   "cell_type": "code",
   "execution_count": 51,
   "metadata": {},
   "outputs": [
    {
     "data": {
      "text/plain": [
       "     con: array([-1.10423448e-10, -1.10419895e-10, -3.70576914e-22, -5.77315973e-15,\n",
       "        0.00000000e+00,  2.20849117e-10])\n",
       "     fun: 5.000000001088295\n",
       " message: 'Optimization terminated successfully.'\n",
       "     nit: 4\n",
       "   slack: array([], dtype=float64)\n",
       "  status: 0\n",
       " success: True\n",
       "       x: array([1.00000000e+00, 1.07463814e-10, 1.00000000e+00, 4.87243456e-11,\n",
       "       1.07463814e-10, 1.00000000e+00, 1.07463814e-10])"
      ]
     },
     "execution_count": 51,
     "metadata": {},
     "output_type": "execute_result"
    }
   ],
   "source": [
    "res\n"
   ]
  },
  {
   "cell_type": "markdown",
   "metadata": {},
   "source": [
    "# Shortest Path\n",
    "# EX2: Basic example SP"
   ]
  },
  {
   "cell_type": "code",
   "execution_count": 52,
   "metadata": {},
   "outputs": [
    {
     "name": "stdout",
     "output_type": "stream",
     "text": [
      "## Optimizer inputs ## \n",
      "Cost vector: [2 1 2 5 2 1 2] \n",
      " A_eq Node-Arc matrix:\n",
      "[[ 1  1  0  0  0  0  0]\n",
      " [-1  0  1  1  0  0  0]\n",
      " [ 0 -1  0  0  1  0  0]\n",
      " [ 0  0 -1  0  0  1  0]\n",
      " [ 0  0  0  0 -1  0  1]\n",
      " [ 0  0  0 -1  0 -1 -1]] \n",
      "b_eq demand-supply vector: [ 1  0  0  0  0 -1] \n",
      "Bounds of each X arc variable: ((0, None), (0, None), (0, None), (0, None), (0, None), (0, None), (0, None)) \n",
      "\n",
      "\n",
      " ## Results for interior-point ## \n",
      "The raw solution will be: [5.29117485e-01 4.70882515e-01 5.29117485e-01 1.92890873e-11\n",
      " 4.70882515e-01 5.29117485e-01 4.70882515e-01]\n",
      "The arcs that make the shortest path will be (from, to): []\n",
      "The minimum cost will be: 5.00 \n",
      "\n",
      " ## Results for revised simplex ## \n",
      "The raw solution will be: [0. 1. 0. 0. 1. 0. 1.]\n",
      "The arcs that make the shortest path will be (from, to): [(0, 2), (2, 4), (4, 5)]\n",
      "The minimum cost will be: 5.00 \n"
     ]
    },
    {
     "name": "stderr",
     "output_type": "stream",
     "text": [
      "<ipython-input-52-c862b3d8662c>:23: OptimizeWarning: A_eq does not appear to be of full row rank. To improve performance, check the problem formulation for redundant equality constraints.\n",
      "  res = linprog(C, A_eq=Aeq, b_eq=beq, bounds=bounds, method=name_method)\n"
     ]
    }
   ],
   "source": [
    "\n",
    "# IMPORT THE DATA:\n",
    "NN = np.array([[0, 1, 1, 0, 0, 0],\n",
    "               [0, 0, 0, 1, 0, 1],\n",
    "               [0, 0, 0, 0, 1, 0],\n",
    "               [0, 0, 0, 0, 0, 1],\n",
    "               [0, 0, 0, 0, 0, 1],\n",
    "               [0, 0, 0, 0, 0, 0]])\n",
    "\n",
    "# DATA MANIPULATION:\n",
    "C = np.array([2, 1, 2, 5, 2, 1, 2])\n",
    "Aeq, arc_idxs = nn2na(NN)\n",
    "beq = np.array([1, 0, 0, 0, 0, -1])\n",
    "bounds = tuple([(0, None) for arcs in range(0, Aeq.shape[1])])\n",
    "\n",
    "print('## Optimizer inputs ## \\n'\n",
    "      'Cost vector: %s \\n '\n",
    "      'A_eq Node-Arc matrix:\\n%s \\n'\n",
    "      'b_eq demand-supply vector: %s \\n'\n",
    "      'Bounds of each X arc variable: %s \\n' % (C, Aeq, beq, bounds))\n",
    "\n",
    "for name_method in 'interior-point', 'revised simplex':\n",
    "    # OPTIMIZE:\n",
    "    res = linprog(C, A_eq=Aeq, b_eq=beq, bounds=bounds, method=name_method)\n",
    "\n",
    "    # GET THE SOLUTION:\n",
    "    selarcs = get_selected_arcs(arc_idxs, res.x)\n",
    "    print('\\n ## Results for %s ## ' % name_method)\n",
    "    print('The raw solution will be: %s' % res.x)\n",
    "    print('The arcs that make the shortest path will be (from, to): %s' % selarcs)\n",
    "    print('The minimum cost will be: %0.2f ' % res.fun)"
   ]
  },
  {
   "cell_type": "markdown",
   "metadata": {},
   "source": [
    "# Shortest Path\n",
    "# EX3 Basic example SP with Dijkstra algorithm"
   ]
  },
  {
   "cell_type": "code",
   "execution_count": 53,
   "metadata": {},
   "outputs": [],
   "source": [
    "\n",
    "# graph = {'s': {'1': 2, '2': 2},\n",
    "#          '1': {'3': 2, 't': 5,'s':2}, '2': {'4': 2,'s':2},\n",
    "#          '3': {'t': 1,'1':2}, '4': {'t': 2,'2':2},'t':{'3':1,'4':2,'1':5} }"
   ]
  },
  {
   "cell_type": "code",
   "execution_count": 54,
   "metadata": {},
   "outputs": [],
   "source": [
    "\n",
    "def search(source, target, graph, costs, parents):\n",
    "    \n",
    "    new_graph=deepcopy(graph)\n",
    "    new_cost=deepcopy(costs)\n",
    "    \n",
    "    nextNode = source\n",
    "    \n",
    "    while nextNode != target:\n",
    "        \n",
    "        for neighbor in new_graph[nextNode]:\n",
    "            \n",
    "            if new_graph[nextNode][neighbor] + new_cost[nextNode] < new_cost[neighbor]:\n",
    "                \n",
    "                new_cost[neighbor] = new_graph[nextNode][neighbor] + new_cost[nextNode]\n",
    "                \n",
    "                parents[neighbor] = nextNode\n",
    "   \n",
    "            del new_graph[neighbor][nextNode]\n",
    "        del new_cost[nextNode]\n",
    "        \n",
    "        res =  [key for key in new_cost if \n",
    "        all(new_cost[temp] >= new_cost[key] \n",
    "        for temp in new_cost)] \n",
    "\n",
    "        nextNode=res[0]      \n",
    "    return parents\n",
    "\n",
    "def backpedal(source, target, searchResult,graph):\n",
    "    \n",
    "    node = target\n",
    "    \n",
    "    backpath = [target]\n",
    "    \n",
    "    path = []\n",
    "    \n",
    "    while node != source:\n",
    "        \n",
    "        backpath.append(searchResult[node])\n",
    "        \n",
    "        node = searchResult[node]\n",
    "        \n",
    "    for i in range(len(backpath)):\n",
    "        \n",
    "        path.append(backpath[-i - 1])\n",
    "    \n",
    "    costo_total=0\n",
    "    for i in range (len(path)-1):\n",
    "        costo_total+=graph[path[i]][path[i+1]]\n",
    "\n",
    "    return path,costo_total"
   ]
  },
  {
   "cell_type": "code",
   "execution_count": 71,
   "metadata": {},
   "outputs": [],
   "source": [
    "graph = {'s': {'2': 2, '3': 2},\n",
    "         \n",
    "         '2': {'4': 2, 't': 5,'s':2}, \n",
    "         \n",
    "         '3': {'5': 2,'s':2},\n",
    "         \n",
    "         '4': {'t': 1,'2':2},\n",
    "         \n",
    "         '5': {'t': 2,'3':2},\n",
    "         \n",
    "         't':{'4':1,'5':2,'2':5} }\n",
    "\n",
    "\n",
    "costs = {'s': 0, '2': np.inf, '3': np.inf, '4': np.inf, '5': np.inf, 't': np.inf}\n",
    "\n",
    "parents = {}"
   ]
  },
  {
   "cell_type": "code",
   "execution_count": 70,
   "metadata": {},
   "outputs": [
    {
     "name": "stdout",
     "output_type": "stream",
     "text": [
      "shorth_path=['s', '2', '4', 't']\n",
      "total_cost = 5\n"
     ]
    }
   ],
   "source": [
    "result = search('s', 't', graph, costs, parents)\n",
    "\n",
    "# print('parent dictionary={}'.format(result))\n",
    "print('shorth_path={}'.format(backpedal('s', 't', result,graph)[0]))\n",
    "print('total_cost = {}'.format(backpedal('s', 't', result,graph)[1]))"
   ]
  },
  {
   "cell_type": "markdown",
   "metadata": {},
   "source": [
    "# Maximum Flow\n",
    "# EX4: Basic example MF"
   ]
  },
  {
   "cell_type": "code",
   "execution_count": 63,
   "metadata": {},
   "outputs": [],
   "source": [
    "# Maximum flow Utils\n",
    "def get_usage_string(arc_idxs, res_flow, capacity):\n",
    "    return {arc: '%s/%s' % (flow, cap) for arc, flow, cap in zip(arc_idxs, res_flow, capacity)}\n",
    "\n",
    "def get_min_cut(arc_idxs, np_res_flow, np_capacity):\n",
    "    np_capacity = np.where(np_capacity == None, 999, np_capacity)\n",
    "\n",
    "    idxs = np.argwhere((np_res_flow - np_capacity) == 0)\n",
    "    return [arc_idxs[i[0]] for i in idxs]"
   ]
  },
  {
   "cell_type": "code",
   "execution_count": 64,
   "metadata": {},
   "outputs": [
    {
     "name": "stdout",
     "output_type": "stream",
     "text": [
      "## Optimizer inputs ## \n",
      "Cost vector: [ 0  0  0  0  0  0  0 -1] \n",
      " A_eq Node-Arc matrix:\n",
      "[[ 1  1  0  0  0  0  0 -1]\n",
      " [-1  0  1  1  0  0  0  0]\n",
      " [ 0 -1  0  0  1  0  0  0]\n",
      " [ 0  0 -1  0  0  1  0  0]\n",
      " [ 0  0  0  0 -1  0  1  0]\n",
      " [ 0  0  0 -1  0 -1 -1  1]] \n",
      "b_eq demand-supply vector: [0 0 0 0 0 0] \n",
      "Bounds of each X arc variable: ((0, 7), (0, 1), (0, 2), (0, 3), (0, 2), (0, 1), (0, 2), (0, None)) \n",
      "\n",
      "## Results ## \n",
      "The usage of each arc will be (from, to): {(0, 1): '4/7', (0, 2): '1/1', (1, 3): '1/2', (1, 5): '3/3', (2, 4): '1/2', (3, 5): '1/1', (4, 5): '1/2', (5, 0): '5/None'} \n",
      "The arcs that produce the minimum cut (from, to): [(0, 2), (1, 5), (3, 5)] \n",
      "The maximum flow will be: 5.00 \n"
     ]
    },
    {
     "name": "stderr",
     "output_type": "stream",
     "text": [
      "<ipython-input-64-430887b527b4>:23: OptimizeWarning: A_eq does not appear to be of full row rank. To improve performance, check the problem formulation for redundant equality constraints.\n",
      "  res = linprog(C, A_eq=Aeq, b_eq=beq, bounds=bounds, method='simplex')\n"
     ]
    }
   ],
   "source": [
    "# IMPORT THE DATA:\n",
    "NN = np.array([[0, 1, 1, 0, 0, 0],\n",
    "               [0, 0, 0, 1, 0, 1],\n",
    "               [0, 0, 0, 0, 1, 0],\n",
    "               [0, 0, 0, 0, 0, 1],\n",
    "               [0, 0, 0, 0, 0, 1],\n",
    "               [1, 0, 0, 0, 0, 0]])\n",
    "\n",
    "# DATA MANIPULATION:\n",
    "Aeq, arc_idxs = nn2na(NN)\n",
    "C = np.array([0, 0, 0, 0, 0, 0, 0, -1])\n",
    "beq = np.array([0, 0, 0, 0, 0, 0])\n",
    "max_q = [7, 1, 2, 3, 2, 1, 2, None]\n",
    "bounds = tuple([(0, max_q[arcs]) for arcs in range(0, Aeq.shape[1])])\n",
    "\n",
    "print('## Optimizer inputs ## \\n'\n",
    "      'Cost vector: %s \\n '\n",
    "      'A_eq Node-Arc matrix:\\n%s \\n'\n",
    "      'b_eq demand-supply vector: %s \\n'\n",
    "      'Bounds of each X arc variable: %s \\n' % (C, Aeq, beq, bounds))\n",
    "\n",
    "# OPTIMIZE:\n",
    "res = linprog(C, A_eq=Aeq, b_eq=beq, bounds=bounds, method='simplex')\n",
    "\n",
    "# GET THE SOLUTION:\n",
    "usage = get_usage_string(arc_idxs, res.x.astype(int), max_q)\n",
    "min_cut = get_min_cut(arc_idxs, res.x, np.array(max_q))\n",
    "max_flow = res.fun * -1\n",
    "print('## Results ## \\n'\n",
    "      'The usage of each arc will be (from, to): %s \\n'\n",
    "      'The arcs that produce the minimum cut (from, to): %s \\n'\n",
    "      'The maximum flow will be: %0.2f ' % (usage, min_cut , max_flow))"
   ]
  },
  {
   "cell_type": "code",
   "execution_count": 65,
   "metadata": {},
   "outputs": [
    {
     "data": {
      "text/plain": [
       "((0, 7), (0, 1), (0, 2), (0, 3), (0, 2), (0, 1), (0, 2), (0, None))"
      ]
     },
     "execution_count": 65,
     "metadata": {},
     "output_type": "execute_result"
    }
   ],
   "source": [
    "bounds"
   ]
  },
  {
   "cell_type": "code",
   "execution_count": 66,
   "metadata": {},
   "outputs": [
    {
     "data": {
      "text/plain": [
       "array([4., 1., 1., 3., 1., 1., 1., 5.])"
      ]
     },
     "execution_count": 66,
     "metadata": {},
     "output_type": "execute_result"
    }
   ],
   "source": [
    "res.x"
   ]
  },
  {
   "cell_type": "markdown",
   "metadata": {},
   "source": [
    "# Maximum Flow\n",
    "# EX5: Basic example MF with Ford Fulkerson algorithm"
   ]
  },
  {
   "cell_type": "code",
   "execution_count": null,
   "metadata": {},
   "outputs": [],
   "source": []
  },
  {
   "cell_type": "markdown",
   "metadata": {},
   "source": [
    "# Transport\n",
    "# EX6: Transport model example"
   ]
  },
  {
   "cell_type": "code",
   "execution_count": 102,
   "metadata": {},
   "outputs": [
    {
     "name": "stdout",
     "output_type": "stream",
     "text": [
      "## Optimizer inputs ## \n",
      "Cost vector: [10 20 10 10 10 30] \n",
      " A_eq Node-Arc matrix:\n",
      "[[ 1  1  0  0  0  0]\n",
      " [ 0  0  1  1  0  0]\n",
      " [ 0  0  0  0  1  1]\n",
      " [-1  0 -1  0 -1  0]\n",
      " [ 0 -1  0 -1  0 -1]] \n",
      "b_eq demand-supply vector: [ 10  20  15 -25 -20] \n",
      "Bounds of each X arc variable: ((0, None), (0, None), (0, None), (0, None), (0, None), (0, None)) \n",
      "\n",
      "## Results ## \n",
      "The maximum flow will be: -450.00 \n",
      "The raw solution will be: [10.  0.  0. 20. 15.  0.]\n"
     ]
    },
    {
     "name": "stderr",
     "output_type": "stream",
     "text": [
      "<ipython-input-102-8848cbfb17c1>:22: OptimizeWarning: A_eq does not appear to be of full row rank. To improve performance, check the problem formulation for redundant equality constraints.\n",
      "  res = linprog(C, A_eq=Aeq, b_eq=beq, bounds=bounds, method='simplex')\n"
     ]
    }
   ],
   "source": [
    "# IMPORT THE DATA:\n",
    "NN = np.array([[ 0, 0, 0, 1, 1],\n",
    "               [0, 0, 0, 1, 1],\n",
    "               [0, 0, 0, 1, 1],\n",
    "               [0, 0, 0, 0, 0],\n",
    "               [0, 0, 0, 0, 0]])\n",
    "\n",
    "# DATA MANIPULATION:\n",
    "Aeq, arc_idxs = nn2na(NN)\n",
    "C = np.array([10, 20, 10, 10, 10, 30])\n",
    "beq = np.array([10, 20, 15, -25, -20])\n",
    "               \n",
    "bounds = tuple([(0, None) for arcs in range(0, Aeq.shape[1])])\n",
    "\n",
    "print('## Optimizer inputs ## \\n'\n",
    "      'Cost vector: %s \\n '\n",
    "      'A_eq Node-Arc matrix:\\n%s \\n'\n",
    "      'b_eq demand-supply vector: %s \\n'\n",
    "      'Bounds of each X arc variable: %s \\n' % (C, Aeq, beq, bounds))\n",
    "\n",
    "# OPTIMIZE:\n",
    "res = linprog(C, A_eq=Aeq, b_eq=beq, bounds=bounds, method='simplex')\n",
    "\n",
    "\n",
    "\n",
    "max_flow = res.fun * -1\n",
    "print('## Results ## \\n'\n",
    "      'The maximum flow will be: %0.2f ' % ( max_flow))\n",
    "\n",
    "\n",
    "# GET THE SOLUTION:\n",
    "selarcs = get_selected_arcs(arc_idxs, res.x)\n",
    "# print('\\n ## Results for %s ## ' % name_method)\n",
    "\n",
    "print('The raw solution will be: %s' % res.x)\n"
   ]
  },
  {
   "cell_type": "code",
   "execution_count": 97,
   "metadata": {},
   "outputs": [
    {
     "data": {
      "text/plain": [
       "     con: array([0., 0., 0., 0., 0.])\n",
       "     fun: 450.0\n",
       " message: 'Optimization terminated successfully.'\n",
       "     nit: 5\n",
       "   slack: array([], dtype=float64)\n",
       "  status: 0\n",
       " success: True\n",
       "       x: array([10.,  0.,  0., 20., 15.,  0.])"
      ]
     },
     "execution_count": 97,
     "metadata": {},
     "output_type": "execute_result"
    }
   ],
   "source": [
    "res"
   ]
  },
  {
   "cell_type": "code",
   "execution_count": 100,
   "metadata": {},
   "outputs": [
    {
     "data": {
      "text/plain": [
       "array([10.,  0.,  0., 20., 15.,  0.])"
      ]
     },
     "execution_count": 100,
     "metadata": {},
     "output_type": "execute_result"
    }
   ],
   "source": [
    "res.x"
   ]
  },
  {
   "cell_type": "code",
   "execution_count": null,
   "metadata": {},
   "outputs": [],
   "source": []
  },
  {
   "cell_type": "code",
   "execution_count": null,
   "metadata": {},
   "outputs": [],
   "source": []
  }
 ],
 "metadata": {
  "kernelspec": {
   "display_name": "Python 3",
   "language": "python",
   "name": "python3"
  },
  "language_info": {
   "codemirror_mode": {
    "name": "ipython",
    "version": 3
   },
   "file_extension": ".py",
   "mimetype": "text/x-python",
   "name": "python",
   "nbconvert_exporter": "python",
   "pygments_lexer": "ipython3",
   "version": "3.8.5"
  }
 },
 "nbformat": 4,
 "nbformat_minor": 4
}
